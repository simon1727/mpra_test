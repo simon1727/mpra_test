{
 "cells": [
  {
   "cell_type": "code",
   "execution_count": 1,
   "metadata": {},
   "outputs": [],
   "source": [
    "%load_ext autoreload\n",
    "%autoreload 2"
   ]
  },
  {
   "cell_type": "code",
   "execution_count": 3,
   "metadata": {},
   "outputs": [],
   "source": [
    "\n",
    "import os\n",
    "import sys\n",
    "\n",
    "import torch\n",
    "import numpy as np\n",
    "import pandas as pd\n",
    "\n",
    "from mpra_test.mpra_test import MPRA_Dataset"
   ]
  },
  {
   "cell_type": "markdown",
   "metadata": {},
   "source": [
    "### Plant"
   ]
  },
  {
   "cell_type": "code",
   "execution_count": 22,
   "metadata": {},
   "outputs": [
    {
     "name": "stdout",
     "output_type": "stream",
     "text": [
      "(365518, 13)\n",
      "Index(['X', 'Y: cold', 'Y: warm', 'Y: dark', 'Y: light', 'Y: maize',\n",
      "       'obs_X: id', 'obs_X: lib', 'obs_X: species', 'obs_X: chr',\n",
      "       'obs_X: loci (start)', 'obs_X: loci (end)', 'obs_X: orientation'],\n",
      "      dtype='object')\n"
     ]
    }
   ],
   "source": [
    "name_paper = 'Plant_2024_Jores'\n",
    "name_dataset = 'native'\n",
    "\n",
    "mpra_dataset = MPRA_Dataset.load(name_paper, name_dataset)\n",
    "print(mpra_dataset.shape)\n",
    "print(mpra_dataset.data.columns)"
   ]
  },
  {
   "cell_type": "code",
   "execution_count": 23,
   "metadata": {},
   "outputs": [
    {
     "data": {
      "text/plain": [
       "<mpra_test.mpra_test.MPRA_Dataset at 0x7ff1433ec640>"
      ]
     },
     "execution_count": 23,
     "metadata": {},
     "output_type": "execute_result"
    }
   ],
   "source": [
    "mpra_dataset"
   ]
  },
  {
   "cell_type": "code",
   "execution_count": 24,
   "metadata": {},
   "outputs": [
    {
     "name": "stdout",
     "output_type": "stream",
     "text": [
      "X                      ATAGAAAAATTAGGTAAAGAGTCAGTGTCGTTATGTTATGGAAGAT...\n",
      "Y: cold                                                        -0.255701\n",
      "Y: warm                                                         0.130293\n",
      "Y: dark                                                         0.187041\n",
      "Y: light                                                       -0.088923\n",
      "Y: maize                                                       -0.507449\n",
      "obs_X: id                                                           At-1\n",
      "obs_X: lib                                                           ACR\n",
      "obs_X: species                                                        At\n",
      "obs_X: chr                                                             1\n",
      "obs_X: loci (start)                                                 1410\n",
      "obs_X: loci (end)                                                   1580\n",
      "obs_X: orientation                                               Forward\n",
      "Name: 0, dtype: object\n"
     ]
    }
   ],
   "source": [
    "print(mpra_dataset[0])"
   ]
  },
  {
   "cell_type": "code",
   "execution_count": 25,
   "metadata": {},
   "outputs": [
    {
     "name": "stdout",
     "output_type": "stream",
     "text": [
      "(365518,)\n",
      "0      At-1\n",
      "1      At-1\n",
      "2     At-10\n",
      "3    At-100\n",
      "4    At-100\n",
      "Name: obs_X: id, dtype: object\n"
     ]
    }
   ],
   "source": [
    "print(mpra_dataset['obs_X: id'].shape)\n",
    "print(mpra_dataset['obs_X: id'].head())"
   ]
  },
  {
   "cell_type": "code",
   "execution_count": 27,
   "metadata": {},
   "outputs": [
    {
     "data": {
      "text/html": [
       "<div>\n",
       "<style scoped>\n",
       "    .dataframe tbody tr th:only-of-type {\n",
       "        vertical-align: middle;\n",
       "    }\n",
       "\n",
       "    .dataframe tbody tr th {\n",
       "        vertical-align: top;\n",
       "    }\n",
       "\n",
       "    .dataframe thead th {\n",
       "        text-align: right;\n",
       "    }\n",
       "</style>\n",
       "<table border=\"1\" class=\"dataframe\">\n",
       "  <thead>\n",
       "    <tr style=\"text-align: right;\">\n",
       "      <th></th>\n",
       "      <th>cold</th>\n",
       "      <th>warm</th>\n",
       "      <th>dark</th>\n",
       "      <th>light</th>\n",
       "      <th>maize</th>\n",
       "    </tr>\n",
       "  </thead>\n",
       "  <tbody>\n",
       "    <tr>\n",
       "      <th>0</th>\n",
       "      <td>-0.255701</td>\n",
       "      <td>0.130293</td>\n",
       "      <td>0.187041</td>\n",
       "      <td>-0.088923</td>\n",
       "      <td>-0.507449</td>\n",
       "    </tr>\n",
       "    <tr>\n",
       "      <th>1</th>\n",
       "      <td>-0.189147</td>\n",
       "      <td>0.384606</td>\n",
       "      <td>0.020128</td>\n",
       "      <td>0.051520</td>\n",
       "      <td>-1.133404</td>\n",
       "    </tr>\n",
       "    <tr>\n",
       "      <th>2</th>\n",
       "      <td>0.039015</td>\n",
       "      <td>0.922137</td>\n",
       "      <td>0.600000</td>\n",
       "      <td>0.475028</td>\n",
       "      <td>-0.420744</td>\n",
       "    </tr>\n",
       "    <tr>\n",
       "      <th>3</th>\n",
       "      <td>0.450037</td>\n",
       "      <td>1.553443</td>\n",
       "      <td>2.049545</td>\n",
       "      <td>1.206474</td>\n",
       "      <td>0.345508</td>\n",
       "    </tr>\n",
       "    <tr>\n",
       "      <th>4</th>\n",
       "      <td>0.398944</td>\n",
       "      <td>0.386737</td>\n",
       "      <td>2.296798</td>\n",
       "      <td>1.175671</td>\n",
       "      <td>0.715303</td>\n",
       "    </tr>\n",
       "    <tr>\n",
       "      <th>...</th>\n",
       "      <td>...</td>\n",
       "      <td>...</td>\n",
       "      <td>...</td>\n",
       "      <td>...</td>\n",
       "      <td>...</td>\n",
       "    </tr>\n",
       "    <tr>\n",
       "      <th>365513</th>\n",
       "      <td>NaN</td>\n",
       "      <td>NaN</td>\n",
       "      <td>NaN</td>\n",
       "      <td>NaN</td>\n",
       "      <td>-0.576264</td>\n",
       "    </tr>\n",
       "    <tr>\n",
       "      <th>365514</th>\n",
       "      <td>NaN</td>\n",
       "      <td>NaN</td>\n",
       "      <td>NaN</td>\n",
       "      <td>NaN</td>\n",
       "      <td>-0.243445</td>\n",
       "    </tr>\n",
       "    <tr>\n",
       "      <th>365515</th>\n",
       "      <td>NaN</td>\n",
       "      <td>NaN</td>\n",
       "      <td>NaN</td>\n",
       "      <td>NaN</td>\n",
       "      <td>-0.358087</td>\n",
       "    </tr>\n",
       "    <tr>\n",
       "      <th>365516</th>\n",
       "      <td>NaN</td>\n",
       "      <td>NaN</td>\n",
       "      <td>NaN</td>\n",
       "      <td>NaN</td>\n",
       "      <td>-1.606015</td>\n",
       "    </tr>\n",
       "    <tr>\n",
       "      <th>365517</th>\n",
       "      <td>NaN</td>\n",
       "      <td>NaN</td>\n",
       "      <td>NaN</td>\n",
       "      <td>NaN</td>\n",
       "      <td>-1.383622</td>\n",
       "    </tr>\n",
       "  </tbody>\n",
       "</table>\n",
       "<p>365518 rows × 5 columns</p>\n",
       "</div>"
      ],
      "text/plain": [
       "            cold      warm      dark     light     maize\n",
       "0      -0.255701  0.130293  0.187041 -0.088923 -0.507449\n",
       "1      -0.189147  0.384606  0.020128  0.051520 -1.133404\n",
       "2       0.039015  0.922137  0.600000  0.475028 -0.420744\n",
       "3       0.450037  1.553443  2.049545  1.206474  0.345508\n",
       "4       0.398944  0.386737  2.296798  1.175671  0.715303\n",
       "...          ...       ...       ...       ...       ...\n",
       "365513       NaN       NaN       NaN       NaN -0.576264\n",
       "365514       NaN       NaN       NaN       NaN -0.243445\n",
       "365515       NaN       NaN       NaN       NaN -0.358087\n",
       "365516       NaN       NaN       NaN       NaN -1.606015\n",
       "365517       NaN       NaN       NaN       NaN -1.383622\n",
       "\n",
       "[365518 rows x 5 columns]"
      ]
     },
     "execution_count": 27,
     "metadata": {},
     "output_type": "execute_result"
    }
   ],
   "source": [
    "mpra_dataset.Y"
   ]
  },
  {
   "cell_type": "code",
   "execution_count": 31,
   "metadata": {},
   "outputs": [
    {
     "name": "stdout",
     "output_type": "stream",
     "text": [
      "MPRA_Dataset object with n_seq × n_readout = 13048 × 5\n",
      "obs X: 'id', 'lib', 'species', 'chr', 'loci (start)', 'loci (end)', 'orientation'\n",
      "obs Y: ''\n",
      "readout: 'cold', 'warm', 'dark', 'light', 'maize'\n",
      "\n"
     ]
    }
   ],
   "source": [
    "print(mpra_dataset[mpra_dataset.Y['dark'] > 3])"
   ]
  },
  {
   "cell_type": "code",
   "execution_count": 10,
   "metadata": {},
   "outputs": [
    {
     "name": "stdout",
     "output_type": "stream",
     "text": [
      "(3, 13)\n",
      "(13048, 13)\n",
      "3.000056731135264 7.282275582325817\n",
      "(172470, 13)\n",
      "obs_X: chr\n",
      "3    52966\n",
      "5    50589\n",
      "2    49517\n",
      "7    19398\n",
      "Name: count, dtype: int64\n",
      "(3, 13)\n",
      "(3, 13)\n",
      "(3, 13)\n",
      "(365518,)\n",
      "(365518, 4)\n"
     ]
    }
   ],
   "source": [
    "print(mpra_dataset[:3].shape)\n",
    "print(mpra_dataset[mpra_dataset['Y: dark'] > 3].shape)\n",
    "print(mpra_dataset[mpra_dataset['Y: dark'] > 3]['Y: dark'].min(), mpra_dataset[mpra_dataset['Y: dark'] > 3]['Y: dark'].max())\n",
    "print(mpra_dataset[mpra_dataset['obs_X: chr'].isin([2, 3, 5, 7])].shape)\n",
    "print(mpra_dataset[mpra_dataset['obs_X: chr'].isin([2, 3, 5, 7])]['obs_X: chr'].value_counts())\n",
    "print(mpra_dataset[np.arange(3)].shape)\n",
    "print(mpra_dataset[torch.arange(3)].shape)\n",
    "print(mpra_dataset[[0,1,2]].shape)\n",
    "print(mpra_dataset['Y: dark'].shape)\n",
    "print(mpra_dataset[['Y: cold', 'Y: warm', 'Y: dark', 'Y: light']].shape)"
   ]
  },
  {
   "cell_type": "code",
   "execution_count": 11,
   "metadata": {},
   "outputs": [
    {
     "name": "stdout",
     "output_type": "stream",
     "text": [
      "(3, 13)\n",
      "(13048, 13)\n",
      "3.000056731135264 7.282275582325817\n",
      "(172470, 13)\n",
      "chr\n",
      "3    52966\n",
      "5    50589\n",
      "2    49517\n",
      "7    19398\n",
      "Name: count, dtype: int64\n",
      "(3, 13)\n",
      "(3, 13)\n",
      "(3, 13)\n",
      "(365518,)\n",
      "(365518, 4)\n"
     ]
    }
   ],
   "source": [
    "print(mpra_dataset[:3].shape)\n",
    "print(mpra_dataset[mpra_dataset.Y['dark'] > 3].shape)\n",
    "print(mpra_dataset[mpra_dataset.Y['dark'] > 3].Y['dark'].min(), mpra_dataset[mpra_dataset.Y['dark'] > 3].Y['dark'].max())\n",
    "print(mpra_dataset[mpra_dataset.obs_X['chr'].isin([2, 3, 5, 7])].shape)\n",
    "print(mpra_dataset[mpra_dataset.obs_X['chr'].isin([2, 3, 5, 7])].obs_X['chr'].value_counts())\n",
    "print(mpra_dataset[np.arange(3)].shape)\n",
    "print(mpra_dataset[torch.arange(3)].shape)\n",
    "print(mpra_dataset[[0,1,2]].shape)\n",
    "print(mpra_dataset.Y['dark'].shape)\n",
    "print(mpra_dataset.Y[['cold', 'warm', 'dark', 'light']].shape)"
   ]
  },
  {
   "cell_type": "code",
   "execution_count": 12,
   "metadata": {},
   "outputs": [],
   "source": [
    "chr_valid = [4, 9]\n",
    "chr_infer = [2, 7]\n",
    "\n",
    "idx_valid = mpra_dataset['obs_X: chr'].isin(chr_valid)\n",
    "idx_infer = mpra_dataset['obs_X: chr'].isin(chr_infer)\n",
    "idx_train = ~ (idx_valid | idx_infer)\n"
   ]
  },
  {
   "cell_type": "code",
   "execution_count": 13,
   "metadata": {},
   "outputs": [
    {
     "name": "stdout",
     "output_type": "stream",
     "text": [
      "len(dataloader_train.dataset):  216247\n",
      "len(dataloader_valid.dataset):  57836\n",
      "len(dataloader_infer.dataset):  63737\n"
     ]
    }
   ],
   "source": [
    "batch_size = 64\n",
    "num_workers = 4\n",
    "dataloader_train = mpra_dataset[idx_train].to_DataLoader(\n",
    "    cols_Y = ['Y: cold', 'Y: warm', 'Y: dark', 'Y: light'],\n",
    "    batch_size = batch_size, num_workers = num_workers, shuffle = True, \n",
    ")\n",
    "dataloader_valid = mpra_dataset[idx_valid].to_DataLoader(\n",
    "    cols_Y = ['Y: cold', 'Y: warm', 'Y: dark', 'Y: light'],\n",
    "    batch_size = batch_size, num_workers = num_workers, shuffle = False, \n",
    ")\n",
    "dataloader_infer = mpra_dataset[idx_infer].to_DataLoader(\n",
    "    cols_Y = ['Y: cold', 'Y: warm', 'Y: dark', 'Y: light'],\n",
    "    batch_size = batch_size, num_workers = num_workers, shuffle = False, \n",
    ")\n",
    "\n",
    "print('len(dataloader_train.dataset): ', len(dataloader_train.dataset))\n",
    "print('len(dataloader_valid.dataset): ', len(dataloader_valid.dataset))\n",
    "print('len(dataloader_infer.dataset): ', len(dataloader_infer.dataset))"
   ]
  },
  {
   "cell_type": "markdown",
   "metadata": {},
   "source": [
    "### Nature 2022 Regev"
   ]
  },
  {
   "cell_type": "code",
   "execution_count": 14,
   "metadata": {},
   "outputs": [
    {
     "name": "stdout",
     "output_type": "stream",
     "text": [
      "(3331, 2)\n",
      "Index(['X', 'Y: expr'], dtype='object')\n"
     ]
    }
   ],
   "source": [
    "name_paper = 'Nature_2022_Regev'\n",
    "name_dataset = 'test_complex'\n",
    "\n",
    "mpra_dataset = MPRA_Dataset.load(name_paper, name_dataset)\n",
    "print(mpra_dataset.shape)\n",
    "print(mpra_dataset.data.columns)"
   ]
  },
  {
   "cell_type": "code",
   "execution_count": 15,
   "metadata": {},
   "outputs": [],
   "source": [
    "n = len(mpra_dataset)\n",
    "idx_valid, idx_infer, idx_train = np.split(np.random.permutation(n), [int(0.25*n), int(0.50*n)])"
   ]
  },
  {
   "cell_type": "code",
   "execution_count": 16,
   "metadata": {},
   "outputs": [
    {
     "ename": "ValueError",
     "evalue": "all input arrays must have the same shape",
     "output_type": "error",
     "traceback": [
      "\u001b[0;31m---------------------------------------------------------------------------\u001b[0m",
      "\u001b[0;31mValueError\u001b[0m                                Traceback (most recent call last)",
      "Cell \u001b[0;32mIn[16], line 3\u001b[0m\n\u001b[1;32m      1\u001b[0m batch_size \u001b[38;5;241m=\u001b[39m \u001b[38;5;241m64\u001b[39m\n\u001b[1;32m      2\u001b[0m num_workers \u001b[38;5;241m=\u001b[39m \u001b[38;5;241m4\u001b[39m\n\u001b[0;32m----> 3\u001b[0m dataloader_train \u001b[38;5;241m=\u001b[39m \u001b[43mmpra_dataset\u001b[49m\u001b[43m[\u001b[49m\u001b[43midx_train\u001b[49m\u001b[43m]\u001b[49m\u001b[38;5;241;43m.\u001b[39;49m\u001b[43mto_DataLoader\u001b[49m\u001b[43m(\u001b[49m\n\u001b[1;32m      4\u001b[0m \u001b[43m    \u001b[49m\u001b[43mbatch_size\u001b[49m\u001b[43m \u001b[49m\u001b[38;5;241;43m=\u001b[39;49m\u001b[43m \u001b[49m\u001b[43mbatch_size\u001b[49m\u001b[43m,\u001b[49m\u001b[43m \u001b[49m\u001b[43mnum_workers\u001b[49m\u001b[43m \u001b[49m\u001b[38;5;241;43m=\u001b[39;49m\u001b[43m \u001b[49m\u001b[43mnum_workers\u001b[49m\u001b[43m,\u001b[49m\u001b[43m \u001b[49m\u001b[43mshuffle\u001b[49m\u001b[43m \u001b[49m\u001b[38;5;241;43m=\u001b[39;49m\u001b[43m \u001b[49m\u001b[38;5;28;43;01mTrue\u001b[39;49;00m\u001b[43m,\u001b[49m\u001b[43m \u001b[49m\n\u001b[1;32m      5\u001b[0m \u001b[43m)\u001b[49m\n\u001b[1;32m      6\u001b[0m dataloader_valid \u001b[38;5;241m=\u001b[39m mpra_dataset[idx_valid]\u001b[38;5;241m.\u001b[39mto_DataLoader(\n\u001b[1;32m      7\u001b[0m     batch_size \u001b[38;5;241m=\u001b[39m batch_size, num_workers \u001b[38;5;241m=\u001b[39m num_workers, shuffle \u001b[38;5;241m=\u001b[39m \u001b[38;5;28;01mFalse\u001b[39;00m, \n\u001b[1;32m      8\u001b[0m )\n\u001b[1;32m      9\u001b[0m dataloader_infer \u001b[38;5;241m=\u001b[39m mpra_dataset[idx_infer]\u001b[38;5;241m.\u001b[39mto_DataLoader(\n\u001b[1;32m     10\u001b[0m     batch_size \u001b[38;5;241m=\u001b[39m batch_size, num_workers \u001b[38;5;241m=\u001b[39m num_workers, shuffle \u001b[38;5;241m=\u001b[39m \u001b[38;5;28;01mFalse\u001b[39;00m, \n\u001b[1;32m     11\u001b[0m )\n",
      "File \u001b[0;32m~/Project/mpra_test/mpra_test/mpra_test.py:105\u001b[0m, in \u001b[0;36mMPRA_Dataset.to_DataLoader\u001b[0;34m(self, batch_size, num_workers, shuffle, *args, **kwargs)\u001b[0m\n\u001b[1;32m     99\u001b[0m \u001b[38;5;28;01mdef\u001b[39;00m \u001b[38;5;21mto_DataLoader\u001b[39m(\u001b[38;5;28mself\u001b[39m, \n\u001b[1;32m    100\u001b[0m     batch_size: \u001b[38;5;28mint\u001b[39m, \n\u001b[1;32m    101\u001b[0m     num_workers: \u001b[38;5;28mint\u001b[39m \u001b[38;5;241m=\u001b[39m \u001b[38;5;241m1\u001b[39m, \n\u001b[1;32m    102\u001b[0m     shuffle: \u001b[38;5;28mbool\u001b[39m \u001b[38;5;241m=\u001b[39m \u001b[38;5;28;01mTrue\u001b[39;00m, \n\u001b[1;32m    103\u001b[0m     \u001b[38;5;241m*\u001b[39margs, \u001b[38;5;241m*\u001b[39m\u001b[38;5;241m*\u001b[39mkwargs,\n\u001b[1;32m    104\u001b[0m ):\n\u001b[0;32m--> 105\u001b[0m     \u001b[38;5;28;01mreturn\u001b[39;00m DataLoader(\u001b[38;5;28;43mself\u001b[39;49m\u001b[38;5;241;43m.\u001b[39;49m\u001b[43mto_Dataset\u001b[49m\u001b[43m(\u001b[49m\u001b[38;5;241;43m*\u001b[39;49m\u001b[43margs\u001b[49m\u001b[43m,\u001b[49m\u001b[43m \u001b[49m\u001b[38;5;241;43m*\u001b[39;49m\u001b[38;5;241;43m*\u001b[39;49m\u001b[43mkwargs\u001b[49m\u001b[43m)\u001b[49m, \n\u001b[1;32m    106\u001b[0m         batch_size \u001b[38;5;241m=\u001b[39m batch_size,\n\u001b[1;32m    107\u001b[0m         num_workers \u001b[38;5;241m=\u001b[39m num_workers, \n\u001b[1;32m    108\u001b[0m         shuffle \u001b[38;5;241m=\u001b[39m shuffle,\n\u001b[1;32m    109\u001b[0m     )\n",
      "File \u001b[0;32m~/Project/mpra_test/mpra_test/mpra_test.py:95\u001b[0m, in \u001b[0;36mMPRA_Dataset.to_Dataset\u001b[0;34m(self, cols_Y)\u001b[0m\n\u001b[1;32m     93\u001b[0m mask \u001b[38;5;241m=\u001b[39m \u001b[38;5;28mself\u001b[39m\u001b[38;5;241m.\u001b[39mY[cols_Y]\u001b[38;5;241m.\u001b[39mnotna()\u001b[38;5;241m.\u001b[39mall(axis \u001b[38;5;241m=\u001b[39m \u001b[38;5;241m1\u001b[39m)\n\u001b[1;32m     94\u001b[0m len_max \u001b[38;5;241m=\u001b[39m \u001b[38;5;28mself\u001b[39m\u001b[38;5;241m.\u001b[39mX[\u001b[38;5;124m'\u001b[39m\u001b[38;5;124mX\u001b[39m\u001b[38;5;124m'\u001b[39m][mask]\u001b[38;5;241m.\u001b[39mstr\u001b[38;5;241m.\u001b[39mlen()\u001b[38;5;241m.\u001b[39mmax()\n\u001b[0;32m---> 95\u001b[0m _X \u001b[38;5;241m=\u001b[39m torch\u001b[38;5;241m.\u001b[39mTensor(\u001b[43mseqs_to_onehot\u001b[49m\u001b[43m(\u001b[49m\u001b[38;5;28;43mself\u001b[39;49m\u001b[38;5;241;43m.\u001b[39;49m\u001b[43mX\u001b[49m\u001b[43m[\u001b[49m\u001b[38;5;124;43m'\u001b[39;49m\u001b[38;5;124;43mX\u001b[39;49m\u001b[38;5;124;43m'\u001b[39;49m\u001b[43m]\u001b[49m\u001b[43m[\u001b[49m\u001b[43mmask\u001b[49m\u001b[43m]\u001b[49m\u001b[38;5;241;43m.\u001b[39;49m\u001b[43mvalues\u001b[49m\u001b[43m,\u001b[49m\u001b[43m \u001b[49m\u001b[43mlen_max\u001b[49m\u001b[38;5;241;43m=\u001b[39;49m\u001b[43mlen_max\u001b[49m\u001b[43m)\u001b[49m)\u001b[38;5;241m.\u001b[39mtranspose(\u001b[38;5;241m1\u001b[39m, \u001b[38;5;241m2\u001b[39m)\n\u001b[1;32m     96\u001b[0m _Y \u001b[38;5;241m=\u001b[39m torch\u001b[38;5;241m.\u001b[39mTensor(\u001b[38;5;28mself\u001b[39m\u001b[38;5;241m.\u001b[39mY[cols_Y][mask]\u001b[38;5;241m.\u001b[39mvalues)\n\u001b[1;32m     97\u001b[0m \u001b[38;5;28;01mreturn\u001b[39;00m TensorDataset(_X, _Y)\n",
      "File \u001b[0;32m~/Project/mpra_test/mpra_test/utils.py:57\u001b[0m, in \u001b[0;36mseqs_to_onehot\u001b[0;34m(seqs, len_max, len_div)\u001b[0m\n\u001b[1;32m     54\u001b[0m     \u001b[38;5;28;01mreturn\u001b[39;00m hash_table[to_uint8(seq)]\n\u001b[1;32m     55\u001b[0m seqs \u001b[38;5;241m=\u001b[39m [seq_to_onehot(seq) \u001b[38;5;28;01mfor\u001b[39;00m seq \u001b[38;5;129;01min\u001b[39;00m seqs]\n\u001b[0;32m---> 57\u001b[0m \u001b[38;5;28;01mreturn\u001b[39;00m \u001b[43mnp\u001b[49m\u001b[38;5;241;43m.\u001b[39;49m\u001b[43mstack\u001b[49m\u001b[43m(\u001b[49m\u001b[43mseqs\u001b[49m\u001b[43m)\u001b[49m\n",
      "File \u001b[0;32m~/anaconda3/envs/MPRA/lib/python3.10/site-packages/numpy/core/shape_base.py:449\u001b[0m, in \u001b[0;36mstack\u001b[0;34m(arrays, axis, out, dtype, casting)\u001b[0m\n\u001b[1;32m    447\u001b[0m shapes \u001b[38;5;241m=\u001b[39m {arr\u001b[38;5;241m.\u001b[39mshape \u001b[38;5;28;01mfor\u001b[39;00m arr \u001b[38;5;129;01min\u001b[39;00m arrays}\n\u001b[1;32m    448\u001b[0m \u001b[38;5;28;01mif\u001b[39;00m \u001b[38;5;28mlen\u001b[39m(shapes) \u001b[38;5;241m!=\u001b[39m \u001b[38;5;241m1\u001b[39m:\n\u001b[0;32m--> 449\u001b[0m     \u001b[38;5;28;01mraise\u001b[39;00m \u001b[38;5;167;01mValueError\u001b[39;00m(\u001b[38;5;124m'\u001b[39m\u001b[38;5;124mall input arrays must have the same shape\u001b[39m\u001b[38;5;124m'\u001b[39m)\n\u001b[1;32m    451\u001b[0m result_ndim \u001b[38;5;241m=\u001b[39m arrays[\u001b[38;5;241m0\u001b[39m]\u001b[38;5;241m.\u001b[39mndim \u001b[38;5;241m+\u001b[39m \u001b[38;5;241m1\u001b[39m\n\u001b[1;32m    452\u001b[0m axis \u001b[38;5;241m=\u001b[39m normalize_axis_index(axis, result_ndim)\n",
      "\u001b[0;31mValueError\u001b[0m: all input arrays must have the same shape"
     ]
    }
   ],
   "source": [
    "batch_size = 64\n",
    "num_workers = 4\n",
    "dataloader_train = mpra_dataset[idx_train].to_DataLoader(\n",
    "    batch_size = batch_size, num_workers = num_workers, shuffle = True, \n",
    ")\n",
    "dataloader_valid = mpra_dataset[idx_valid].to_DataLoader(\n",
    "    batch_size = batch_size, num_workers = num_workers, shuffle = False, \n",
    ")\n",
    "dataloader_infer = mpra_dataset[idx_infer].to_DataLoader(\n",
    "    batch_size = batch_size, num_workers = num_workers, shuffle = False, \n",
    ")\n",
    "\n",
    "print('len(dataloader_train.dataset): ', len(dataloader_train.dataset))\n",
    "print('len(dataloader_valid.dataset): ', len(dataloader_valid.dataset))\n",
    "print('len(dataloader_infer.dataset): ', len(dataloader_infer.dataset))"
   ]
  },
  {
   "cell_type": "markdown",
   "metadata": {},
   "source": [
    "### Genome Research 2017 Seelig"
   ]
  },
  {
   "cell_type": "code",
   "execution_count": 17,
   "metadata": {},
   "outputs": [
    {
     "name": "stdout",
     "output_type": "stream",
     "text": [
      "(489348, 4)\n",
      "Index(['X', 'Y: expr', 'obs_Y: raw count (input)',\n",
      "       'obs_Y: raw count (output)'],\n",
      "      dtype='object')\n"
     ]
    }
   ],
   "source": [
    "name_paper = 'GenomeResearch_2017_Seelig'\n",
    "name_dataset = 'random'\n",
    "\n",
    "mpra_dataset = MPRA_Dataset.load(name_paper, name_dataset)\n",
    "print(mpra_dataset.shape)\n",
    "print(mpra_dataset.data.columns)"
   ]
  },
  {
   "cell_type": "code",
   "execution_count": 18,
   "metadata": {},
   "outputs": [],
   "source": [
    "n = len(mpra_dataset)\n",
    "idx_valid, idx_infer, idx_train = np.split(np.random.permutation(n), [int(0.25*n), int(0.50*n)])"
   ]
  },
  {
   "cell_type": "code",
   "execution_count": 19,
   "metadata": {},
   "outputs": [
    {
     "name": "stdout",
     "output_type": "stream",
     "text": [
      "len(dataloader_train.dataset):  244674\n",
      "len(dataloader_valid.dataset):  122337\n",
      "len(dataloader_infer.dataset):  122337\n"
     ]
    }
   ],
   "source": [
    "batch_size = 64\n",
    "num_workers = 4\n",
    "dataloader_train = mpra_dataset[idx_train].to_DataLoader(\n",
    "    batch_size = batch_size, num_workers = num_workers, shuffle = True, \n",
    ")\n",
    "dataloader_valid = mpra_dataset[idx_valid].to_DataLoader(\n",
    "    batch_size = batch_size, num_workers = num_workers, shuffle = False, \n",
    ")\n",
    "dataloader_infer = mpra_dataset[idx_infer].to_DataLoader(\n",
    "    batch_size = batch_size, num_workers = num_workers, shuffle = False, \n",
    ")\n",
    "\n",
    "print('len(dataloader_train.dataset): ', len(dataloader_train.dataset))\n",
    "print('len(dataloader_valid.dataset): ', len(dataloader_valid.dataset))\n",
    "print('len(dataloader_infer.dataset): ', len(dataloader_infer.dataset))"
   ]
  },
  {
   "cell_type": "code",
   "execution_count": 20,
   "metadata": {},
   "outputs": [
    {
     "ename": "ValueError",
     "evalue": "all input arrays must have the same shape",
     "output_type": "error",
     "traceback": [
      "\u001b[0;31m---------------------------------------------------------------------------\u001b[0m",
      "\u001b[0;31mValueError\u001b[0m                                Traceback (most recent call last)",
      "Cell \u001b[0;32mIn[20], line 6\u001b[0m\n\u001b[1;32m      4\u001b[0m batch_size \u001b[38;5;241m=\u001b[39m \u001b[38;5;241m64\u001b[39m\n\u001b[1;32m      5\u001b[0m num_workers \u001b[38;5;241m=\u001b[39m \u001b[38;5;241m4\u001b[39m\n\u001b[0;32m----> 6\u001b[0m dataloader_pred \u001b[38;5;241m=\u001b[39m \u001b[43mmpra_dataset_pred\u001b[49m\u001b[38;5;241;43m.\u001b[39;49m\u001b[43mto_DataLoader\u001b[49m\u001b[43m(\u001b[49m\n\u001b[1;32m      7\u001b[0m \u001b[43m    \u001b[49m\u001b[43mbatch_size\u001b[49m\u001b[43m \u001b[49m\u001b[38;5;241;43m=\u001b[39;49m\u001b[43m \u001b[49m\u001b[43mbatch_size\u001b[49m\u001b[43m,\u001b[49m\u001b[43m \u001b[49m\u001b[43mnum_workers\u001b[49m\u001b[43m \u001b[49m\u001b[38;5;241;43m=\u001b[39;49m\u001b[43m \u001b[49m\u001b[43mnum_workers\u001b[49m\u001b[43m,\u001b[49m\u001b[43m \u001b[49m\u001b[43mshuffle\u001b[49m\u001b[43m \u001b[49m\u001b[38;5;241;43m=\u001b[39;49m\u001b[43m \u001b[49m\u001b[38;5;28;43;01mFalse\u001b[39;49;00m\u001b[43m,\u001b[49m\u001b[43m \u001b[49m\n\u001b[1;32m      8\u001b[0m \u001b[43m)\u001b[49m\n",
      "File \u001b[0;32m~/Project/mpra_test/mpra_test/mpra_test.py:105\u001b[0m, in \u001b[0;36mMPRA_Dataset.to_DataLoader\u001b[0;34m(self, batch_size, num_workers, shuffle, *args, **kwargs)\u001b[0m\n\u001b[1;32m     99\u001b[0m \u001b[38;5;28;01mdef\u001b[39;00m \u001b[38;5;21mto_DataLoader\u001b[39m(\u001b[38;5;28mself\u001b[39m, \n\u001b[1;32m    100\u001b[0m     batch_size: \u001b[38;5;28mint\u001b[39m, \n\u001b[1;32m    101\u001b[0m     num_workers: \u001b[38;5;28mint\u001b[39m \u001b[38;5;241m=\u001b[39m \u001b[38;5;241m1\u001b[39m, \n\u001b[1;32m    102\u001b[0m     shuffle: \u001b[38;5;28mbool\u001b[39m \u001b[38;5;241m=\u001b[39m \u001b[38;5;28;01mTrue\u001b[39;00m, \n\u001b[1;32m    103\u001b[0m     \u001b[38;5;241m*\u001b[39margs, \u001b[38;5;241m*\u001b[39m\u001b[38;5;241m*\u001b[39mkwargs,\n\u001b[1;32m    104\u001b[0m ):\n\u001b[0;32m--> 105\u001b[0m     \u001b[38;5;28;01mreturn\u001b[39;00m DataLoader(\u001b[38;5;28;43mself\u001b[39;49m\u001b[38;5;241;43m.\u001b[39;49m\u001b[43mto_Dataset\u001b[49m\u001b[43m(\u001b[49m\u001b[38;5;241;43m*\u001b[39;49m\u001b[43margs\u001b[49m\u001b[43m,\u001b[49m\u001b[43m \u001b[49m\u001b[38;5;241;43m*\u001b[39;49m\u001b[38;5;241;43m*\u001b[39;49m\u001b[43mkwargs\u001b[49m\u001b[43m)\u001b[49m, \n\u001b[1;32m    106\u001b[0m         batch_size \u001b[38;5;241m=\u001b[39m batch_size,\n\u001b[1;32m    107\u001b[0m         num_workers \u001b[38;5;241m=\u001b[39m num_workers, \n\u001b[1;32m    108\u001b[0m         shuffle \u001b[38;5;241m=\u001b[39m shuffle,\n\u001b[1;32m    109\u001b[0m     )\n",
      "File \u001b[0;32m~/Project/mpra_test/mpra_test/mpra_test.py:95\u001b[0m, in \u001b[0;36mMPRA_Dataset.to_Dataset\u001b[0;34m(self, cols_Y)\u001b[0m\n\u001b[1;32m     93\u001b[0m mask \u001b[38;5;241m=\u001b[39m \u001b[38;5;28mself\u001b[39m\u001b[38;5;241m.\u001b[39mY[cols_Y]\u001b[38;5;241m.\u001b[39mnotna()\u001b[38;5;241m.\u001b[39mall(axis \u001b[38;5;241m=\u001b[39m \u001b[38;5;241m1\u001b[39m)\n\u001b[1;32m     94\u001b[0m len_max \u001b[38;5;241m=\u001b[39m \u001b[38;5;28mself\u001b[39m\u001b[38;5;241m.\u001b[39mX[\u001b[38;5;124m'\u001b[39m\u001b[38;5;124mX\u001b[39m\u001b[38;5;124m'\u001b[39m][mask]\u001b[38;5;241m.\u001b[39mstr\u001b[38;5;241m.\u001b[39mlen()\u001b[38;5;241m.\u001b[39mmax()\n\u001b[0;32m---> 95\u001b[0m _X \u001b[38;5;241m=\u001b[39m torch\u001b[38;5;241m.\u001b[39mTensor(\u001b[43mseqs_to_onehot\u001b[49m\u001b[43m(\u001b[49m\u001b[38;5;28;43mself\u001b[39;49m\u001b[38;5;241;43m.\u001b[39;49m\u001b[43mX\u001b[49m\u001b[43m[\u001b[49m\u001b[38;5;124;43m'\u001b[39;49m\u001b[38;5;124;43mX\u001b[39;49m\u001b[38;5;124;43m'\u001b[39;49m\u001b[43m]\u001b[49m\u001b[43m[\u001b[49m\u001b[43mmask\u001b[49m\u001b[43m]\u001b[49m\u001b[38;5;241;43m.\u001b[39;49m\u001b[43mvalues\u001b[49m\u001b[43m,\u001b[49m\u001b[43m \u001b[49m\u001b[43mlen_max\u001b[49m\u001b[38;5;241;43m=\u001b[39;49m\u001b[43mlen_max\u001b[49m\u001b[43m)\u001b[49m)\u001b[38;5;241m.\u001b[39mtranspose(\u001b[38;5;241m1\u001b[39m, \u001b[38;5;241m2\u001b[39m)\n\u001b[1;32m     96\u001b[0m _Y \u001b[38;5;241m=\u001b[39m torch\u001b[38;5;241m.\u001b[39mTensor(\u001b[38;5;28mself\u001b[39m\u001b[38;5;241m.\u001b[39mY[cols_Y][mask]\u001b[38;5;241m.\u001b[39mvalues)\n\u001b[1;32m     97\u001b[0m \u001b[38;5;28;01mreturn\u001b[39;00m TensorDataset(_X, _Y)\n",
      "File \u001b[0;32m~/Project/mpra_test/mpra_test/utils.py:57\u001b[0m, in \u001b[0;36mseqs_to_onehot\u001b[0;34m(seqs, len_max, len_div)\u001b[0m\n\u001b[1;32m     54\u001b[0m     \u001b[38;5;28;01mreturn\u001b[39;00m hash_table[to_uint8(seq)]\n\u001b[1;32m     55\u001b[0m seqs \u001b[38;5;241m=\u001b[39m [seq_to_onehot(seq) \u001b[38;5;28;01mfor\u001b[39;00m seq \u001b[38;5;129;01min\u001b[39;00m seqs]\n\u001b[0;32m---> 57\u001b[0m \u001b[38;5;28;01mreturn\u001b[39;00m \u001b[43mnp\u001b[49m\u001b[38;5;241;43m.\u001b[39;49m\u001b[43mstack\u001b[49m\u001b[43m(\u001b[49m\u001b[43mseqs\u001b[49m\u001b[43m)\u001b[49m\n",
      "File \u001b[0;32m~/anaconda3/envs/MPRA/lib/python3.10/site-packages/numpy/core/shape_base.py:449\u001b[0m, in \u001b[0;36mstack\u001b[0;34m(arrays, axis, out, dtype, casting)\u001b[0m\n\u001b[1;32m    447\u001b[0m shapes \u001b[38;5;241m=\u001b[39m {arr\u001b[38;5;241m.\u001b[39mshape \u001b[38;5;28;01mfor\u001b[39;00m arr \u001b[38;5;129;01min\u001b[39;00m arrays}\n\u001b[1;32m    448\u001b[0m \u001b[38;5;28;01mif\u001b[39;00m \u001b[38;5;28mlen\u001b[39m(shapes) \u001b[38;5;241m!=\u001b[39m \u001b[38;5;241m1\u001b[39m:\n\u001b[0;32m--> 449\u001b[0m     \u001b[38;5;28;01mraise\u001b[39;00m \u001b[38;5;167;01mValueError\u001b[39;00m(\u001b[38;5;124m'\u001b[39m\u001b[38;5;124mall input arrays must have the same shape\u001b[39m\u001b[38;5;124m'\u001b[39m)\n\u001b[1;32m    451\u001b[0m result_ndim \u001b[38;5;241m=\u001b[39m arrays[\u001b[38;5;241m0\u001b[39m]\u001b[38;5;241m.\u001b[39mndim \u001b[38;5;241m+\u001b[39m \u001b[38;5;241m1\u001b[39m\n\u001b[1;32m    452\u001b[0m axis \u001b[38;5;241m=\u001b[39m normalize_axis_index(axis, result_ndim)\n",
      "\u001b[0;31mValueError\u001b[0m: all input arrays must have the same shape"
     ]
    }
   ],
   "source": [
    "name_dataset_pred = 'native'\n",
    "mpra_dataset_pred = MPRA_Dataset.load(name_paper, name_dataset_pred)\n",
    "\n",
    "batch_size = 64\n",
    "num_workers = 4\n",
    "dataloader_pred = mpra_dataset_pred.to_DataLoader(\n",
    "    batch_size = batch_size, num_workers = num_workers, shuffle = False, \n",
    ")"
   ]
  }
 ],
 "metadata": {
  "kernelspec": {
   "display_name": "base",
   "language": "python",
   "name": "python3"
  },
  "language_info": {
   "codemirror_mode": {
    "name": "ipython",
    "version": 3
   },
   "file_extension": ".py",
   "mimetype": "text/x-python",
   "name": "python",
   "nbconvert_exporter": "python",
   "pygments_lexer": "ipython3",
   "version": "3.10.14"
  }
 },
 "nbformat": 4,
 "nbformat_minor": 2
}
